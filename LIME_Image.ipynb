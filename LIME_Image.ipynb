{
  "nbformat": 4,
  "nbformat_minor": 0,
  "metadata": {
    "colab": {
      "provenance": [],
      "toc_visible": true
    },
    "kernelspec": {
      "display_name": "Python 3",
      "name": "python3"
    }
  },
  "cells": [
    {
      "cell_type": "code",
      "metadata": {
        "id": "5_XmjVZp90VJ"
      },
      "source": [
        "from google.colab import drive\n",
        "drive.mount('/content/drive')"
      ],
      "execution_count": null,
      "outputs": []
    },
    {
      "cell_type": "code",
      "metadata": {
        "id": "KiuAcTnuhl8r"
      },
      "source": [
        "superpixels = skimage.segmentation.quickshift(Xi, kernel_size=4,max_dist=200, ratio=0.2)\n",
        "num_superpixels = np.unique(superpixels).shape[0]\n",
        "num_superpixels"
      ],
      "execution_count": null,
      "outputs": []
    },
    {
      "cell_type": "code",
      "metadata": {
        "id": "8fPvSbn0woWP"
      },
      "source": [
        "skimage.io.imshow(skimage.segmentation.mark_boundaries(Xi/2+0.5, superpixels))"
      ],
      "execution_count": null,
      "outputs": []
    },
    {
      "cell_type": "code",
      "metadata": {
        "id": "YzPpKl83vgWb"
      },
      "source": [
        "num_perturb = 150\n",
        "perturbations = np.random.binomial(1, 0.5, size=(num_perturb, num_superpixels))\n",
        "perturbations[0] #Show example of perturbation"
      ],
      "execution_count": null,
      "outputs": []
    },
    {
      "cell_type": "code",
      "metadata": {
        "id": "hlUXAdhNx01P"
      },
      "source": [
        "def perturb_image(img,perturbation,segments):\n",
        "  active_pixels = np.where(perturbation == 1)[0]\n",
        "  mask = np.zeros(segments.shape)\n",
        "  for active in active_pixels:\n",
        "      mask[segments == active] = 1\n",
        "  perturbed_image = copy.deepcopy(img)\n",
        "  perturbed_image = perturbed_image*mask[:,:,np.newaxis]\n",
        "  return perturbed_image"
      ],
      "execution_count": null,
      "outputs": []
    },
    {
      "cell_type": "code",
      "metadata": {
        "id": "baNh08g76URc"
      },
      "source": [
        "skimage.io.imshow(perturb_image(Xi/2+0.5,perturbations[0],superpixels))"
      ],
      "execution_count": null,
      "outputs": []
    },
    {
      "cell_type": "code",
      "metadata": {
        "id": "fel-ZhZQ5Rbo"
      },
      "source": [
        "predictions = []\n",
        "for pert in perturbations:\n",
        "  perturbed_img = perturb_image(Xi,pert,superpixels)\n",
        "  pred = model.predict(perturbed_img[np.newaxis,:,:,:])\n",
        "  predictions.append(pred)\n",
        "\n",
        "predictions = np.array(predictions)\n",
        "predictions.shape"
      ],
      "execution_count": null,
      "outputs": []
    },
    {
      "cell_type": "code",
      "metadata": {
        "id": "X1bsUoC0-oT7"
      },
      "source": [
        "original_image = np.ones(num_superpixels)[np.newaxis,:] #Perturbation with all superpixels enabled\n",
        "distances = sklearn.metrics.pairwise_distances(perturbations,original_image, metric='cosine').ravel()\n",
        "distances.shape"
      ],
      "execution_count": null,
      "outputs": []
    },
    {
      "cell_type": "code",
      "metadata": {
        "id": "hrgL4KW2UdZI"
      },
      "source": [
        "kernel_width = 0.25\n",
        "weights = np.sqrt(np.exp(-(distances**2)/kernel_width**2)) #Kernel function\n",
        "weights.shape"
      ],
      "execution_count": null,
      "outputs": []
    },
    {
      "cell_type": "code",
      "metadata": {
        "id": "vKOkz_Y-WL3u"
      },
      "source": [
        "class_to_explain = top_pred_classes[0]\n",
        "simpler_model = LinearRegression()\n",
        "simpler_model.fit(X=perturbations, y=predictions[:,:,class_to_explain], sample_weight=weights)\n",
        "coeff = simpler_model.coef_[0]\n",
        "coeff"
      ],
      "execution_count": null,
      "outputs": []
    },
    {
      "cell_type": "code",
      "metadata": {
        "id": "S6Jo9fp2t-jS"
      },
      "source": [
        "num_top_features = 4\n",
        "top_features = np.argsort(coeff)[-num_top_features:]\n",
        "top_features"
      ],
      "execution_count": null,
      "outputs": []
    },
    {
      "cell_type": "code",
      "metadata": {
        "id": "eF3nyAc2i-Nt"
      },
      "source": [
        "mask = np.zeros(num_superpixels)\n",
        "mask[top_features]= True #Activate top superpixels\n",
        "skimage.io.imshow(perturb_image(Xi/2+0.5,mask,superpixels) )"
      ],
      "execution_count": null,
      "outputs": []
    }
  ]
}