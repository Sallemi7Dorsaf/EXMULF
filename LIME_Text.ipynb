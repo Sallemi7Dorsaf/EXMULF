{
  "nbformat": 4,
  "nbformat_minor": 0,
  "metadata": {
    "colab": {
      "provenance": [],
      "toc_visible": true
    },
    "kernelspec": {
      "display_name": "Python 3",
      "name": "python3"
    },
    "language_info": {
      "name": "python"
    },
    "accelerator": "GPU"
  },
  "cells": [
    {
      "cell_type": "code",
      "metadata": {
        "id": "-6IVgr3ptVnU"
      },
      "source": [
        "from google.colab import drive\n",
        "drive.mount('/content/drive')"
      ],
      "execution_count": null,
      "outputs": []
    },
    {
      "cell_type": "code",
      "metadata": {
        "id": "FJDrGGEOt17A"
      },
      "source": [
        "pip install lime"
      ],
      "execution_count": null,
      "outputs": []
    },
    {
      "cell_type": "code",
      "metadata": {
        "id": "6FWMgbsPtz7l"
      },
      "source": [
        "import lime\n",
        "import pandas as pd\n",
        "import numpy as np\n",
        "from lime.lime_text import LimeTextExplainer"
      ],
      "execution_count": null,
      "outputs": []
    },
    {
      "cell_type": "code",
      "metadata": {
        "id": "Nz3T1mpwyAJA"
      },
      "source": [
        "LIME_explainer = LimeTextExplainer(class_names=class_names)\n",
        "\n",
        "idx = 56\n",
        "\n",
        "LIME_exp = LIME_explainer.explain_instance(ls_X_train[idx], c.predict_proba, num_features=4)\n",
        "\n",
        "\n",
        "print('Document id: %d' % idx)\n",
        "print('Tweet: ', ls_X_train[idx])\n",
        "print('Probability real =', c.predict_proba([ls_X_train[idx]]).round(3)[0,1])\n",
        "print('Probability fake =', c.predict_proba([ls_X_train[idx]]).round(3)[0,0])\n",
        "\n",
        "print('True class: %s' % class_names.get(list(y_train)[idx]))"
      ],
      "execution_count": null,
      "outputs": []
    },
    {
      "cell_type": "code",
      "metadata": {
        "id": "SPv-wcUZyAJA"
      },
      "source": [
        "print(\"1 = real class, 0 = fake class\")\n",
        "LIME_exp.show_in_notebook(text=True)"
      ],
      "execution_count": null,
      "outputs": []
    }
  ]
}